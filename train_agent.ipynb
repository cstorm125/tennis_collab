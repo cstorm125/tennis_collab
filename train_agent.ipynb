{
 "cells": [
  {
   "cell_type": "markdown",
   "metadata": {},
   "source": [
    "# tennis_collab"
   ]
  },
  {
   "cell_type": "markdown",
   "metadata": {},
   "source": [
    "`tennis_collab` is a deep deterministic policy gradeint (DDPG) agent trained to play [Unity ML-Agent Toolkit](https://github.com/Unity-Technologies/ml-agents)'s [Tennis](https://www.youtube.com/watch?v=WprTJwaK510). Instead of training the agents to *compete* against each other, we trained them using **the sum of rewards** for them to *cooperate* with each other for the longest rally possible. The model solved the environment (scoring a 100-play moving average across all agents of 0.5 or above) in 403 episodes (roughly 8 minutes). The weights of trained network are saved as `actor_optimal.pth` and `critic_optimal.pth`."
   ]
  },
  {
   "cell_type": "markdown",
   "metadata": {},
   "source": [
    "## Imports"
   ]
  },
  {
   "cell_type": "code",
   "execution_count": 1,
   "metadata": {},
   "outputs": [],
   "source": [
    "from unityagents import UnityEnvironment\n",
    "import numpy as np\n",
    "import matplotlib.pyplot as plt\n",
    "from datetime import datetime\n",
    "from tqdm import trange\n",
    "from collections import deque\n",
    "\n",
    "#torch\n",
    "import torch\n",
    "import torch.nn as nn\n",
    "import torch.nn.functional as F\n",
    "from torch import optim\n",
    "device = torch.device(\"cuda:0\" if torch.cuda.is_available() else \"cpu\")\n",
    "\n",
    "#RL\n",
    "from network import Actor, Critic\n",
    "from memory import VanillaMemory\n",
    "# from agent import Agent"
   ]
  },
  {
   "cell_type": "markdown",
   "metadata": {},
   "source": [
    "## Environment"
   ]
  },
  {
   "cell_type": "markdown",
   "metadata": {},
   "source": [
    "The environment consists of 24 values that describe a state (8 values stacked over 3 timesteps) and 2 values that describe an action. The state represents the position and velocity of the ball and racket. The action is  movement toward (or away from) the net, and jumping. The episode ends after when the ball goes out of bound. If an agent hits the ball over the net, it receives a reward of +0.1. If an agent lets a ball hit the ground or hits the ball out of bounds, it receives a reward of -0.01. The environment is considered solved when the average score of the last 100 episodes exceed 0.5."
   ]
  },
  {
   "cell_type": "code",
   "execution_count": 2,
   "metadata": {},
   "outputs": [
    {
     "name": "stderr",
     "output_type": "stream",
     "text": [
      "INFO:unityagents:\n",
      "'Academy' started successfully!\n",
      "Unity Academy name: Academy\n",
      "        Number of Brains: 1\n",
      "        Number of External Brains : 1\n",
      "        Lesson number : 0\n",
      "        Reset Parameters :\n",
      "\t\t\n",
      "Unity brain name: TennisBrain\n",
      "        Number of Visual Observations (per agent): 0\n",
      "        Vector Observation space type: continuous\n",
      "        Vector Observation space size (per agent): 8\n",
      "        Number of stacked Vector Observation: 3\n",
      "        Vector Action space type: continuous\n",
      "        Vector Action space size (per agent): 2\n",
      "        Vector Action descriptions: , \n"
     ]
    }
   ],
   "source": [
    "env = UnityEnvironment(file_name=\"Tennis_Linux_NoVis/Tennis.x86_64\")"
   ]
  },
  {
   "cell_type": "code",
   "execution_count": 3,
   "metadata": {},
   "outputs": [
    {
     "name": "stdout",
     "output_type": "stream",
     "text": [
      "Number of agents: 2\n",
      "Size of each action: 2\n",
      "There are 2 agents. Each observes a state with length: (2, 24)\n",
      "The state looks like for the first agent: [ 0.          0.          0.          0.          0.          0.\n",
      "  0.          0.          0.          0.          0.          0.\n",
      "  0.          0.          0.          0.         -6.65278625 -1.5\n",
      " -0.          0.          6.83172083  6.         -0.          0.        ]\n"
     ]
    }
   ],
   "source": [
    "# get the default brain\n",
    "brain_name = env.brain_names[0]\n",
    "brain = env.brains[brain_name]\n",
    "\n",
    "# reset the environment\n",
    "env_info = env.reset(train_mode=True)[brain_name]\n",
    "\n",
    "# number of agents\n",
    "num_agents = len(env_info.agents)\n",
    "print(f'Number of agents: {num_agents}')\n",
    "\n",
    "# size of each action\n",
    "action_size = brain.vector_action_space_size\n",
    "print(f'Size of each action: {action_size}')\n",
    "\n",
    "# examine the state space \n",
    "states = env_info.vector_observations\n",
    "state_size = states.shape\n",
    "print(f'There are {states.shape[0]} agents. Each observes a state with length: {state_size}')\n",
    "print(f'The state looks like for the first agent: {states[0]}')"
   ]
  },
  {
   "cell_type": "markdown",
   "metadata": {},
   "source": [
    "## Agent"
   ]
  },
  {
   "cell_type": "markdown",
   "metadata": {},
   "source": [
    "We adopted the DDPG agent used to train the Bipedal-Walker in [Udacity DRLND repository](https://github.com/udacity/deep-reinforcement-learning/tree/master/ddpg-bipedal) with some changes to the hyperparameters as follows. \n",
    "\n",
    "The twist here is that **this is NOT a multi-agent problem**. Our goal is to have **the longest rally possible**. Instead of thinking of the problem as two players holding two bats playing against each other, we can think of the bats as held by two hands of one person trying to balance the ball for as long as possible. Therefore, instead of `rewards` we use **the sum of the rewards** as `fake_rewards` for the agent. This hopefully will motivate the agent to *hit an easy ball* for its opponent.\n",
    "\n",
    "We also collected the losses of actor and critic to help with finetuning the agent."
   ]
  },
  {
   "cell_type": "code",
   "execution_count": 5,
   "metadata": {},
   "outputs": [],
   "source": [
    "mem = VanillaMemory(int(1e5), seed = 0)\n",
    "agent = Agent(state_size=24, action_size=2, replay_memory=mem, random_seed=0, \n",
    "              nb_agent = 2, bs = 128,\n",
    "              gamma=0.99, tau = 1e-1, lr_actor=5e-4, lr_critic=1e-3, wd_actor=0, wd_critic=0,\n",
    "              clip_actor = None, clip_critic = 1, update_interval = 1, update_times = 1)"
   ]
  },
  {
   "cell_type": "code",
   "execution_count": 6,
   "metadata": {},
   "outputs": [
    {
     "name": "stderr",
     "output_type": "stream",
     "text": [
      "  0%|          | 1/1000 [00:00<02:53,  5.77it/s]"
     ]
    },
    {
     "name": "stdout",
     "output_type": "stream",
     "text": [
      "Episode: 0 Score: 0.0 Average Score: 0.0\n"
     ]
    },
    {
     "name": "stderr",
     "output_type": "stream",
     "text": [
      " 10%|█         | 101/1000 [00:30<04:28,  3.35it/s]"
     ]
    },
    {
     "name": "stdout",
     "output_type": "stream",
     "text": [
      "Episode: 100 Score: 0.0 Average Score: 0.03240000052377581\n"
     ]
    },
    {
     "name": "stderr",
     "output_type": "stream",
     "text": [
      " 20%|██        | 201/1000 [01:32<06:06,  2.18it/s]"
     ]
    },
    {
     "name": "stdout",
     "output_type": "stream",
     "text": [
      "Episode: 200 Score: 0.10000000149011612 Average Score: 0.11610000176355242\n"
     ]
    },
    {
     "name": "stderr",
     "output_type": "stream",
     "text": [
      " 30%|███       | 301/1000 [03:48<08:50,  1.32it/s]"
     ]
    },
    {
     "name": "stdout",
     "output_type": "stream",
     "text": [
      "Episode: 300 Score: 0.10000000149011612 Average Score: 0.2542000038363039\n"
     ]
    },
    {
     "name": "stderr",
     "output_type": "stream",
     "text": [
      " 40%|████      | 401/1000 [08:17<12:23,  1.24s/it]"
     ]
    },
    {
     "name": "stdout",
     "output_type": "stream",
     "text": [
      "Episode: 400 Score: 0.20000000298023224 Average Score: 0.49750000746920703\n"
     ]
    },
    {
     "name": "stderr",
     "output_type": "stream",
     "text": [
      " 40%|████      | 403/1000 [08:20<12:20,  1.24s/it]"
     ]
    },
    {
     "name": "stdout",
     "output_type": "stream",
     "text": [
      "Environment solved in 403 episodes! Average Score: 0.502400007545948\n"
     ]
    }
   ],
   "source": [
    "scores = []\n",
    "moving_scores = []\n",
    "scores_avg = deque(maxlen=100)\n",
    "n_episodes = 1000\n",
    "nb_agent = 2\n",
    "\n",
    "for episode in trange(n_episodes):\n",
    "    #get initial states\n",
    "    env_info = env.reset(train_mode=True)[brain_name]            \n",
    "    states = env_info.vector_observations\n",
    "    score = np.zeros(nb_agent)\n",
    "    agent.reset_noise()                                             \n",
    "\n",
    "    while True:\n",
    "        #random actions\n",
    "        actions = np.random.randn(nb_agent, action_size)\n",
    "        actions = np.clip(actions, -1, 1)  \n",
    "        #agent action\n",
    "        actions = agent.act(states)\n",
    "        env_info = env.step(actions)[brain_name]                 # env step                    \n",
    "        next_states = env_info.vector_observations               # get the next state        \n",
    "        rewards = env_info.rewards                               # get the reward        \n",
    "        #fake rewards being the sum of all rewards since they are essentially one person\n",
    "        fake_rewards = [sum(rewards) for i in rewards]\n",
    "        dones = env_info.local_done                              # see if episode has finished        \n",
    "        agent.step(states, actions, fake_rewards, next_states, dones) # agent step\n",
    "        score += rewards                                         # update the score\n",
    "        states = next_states                                     # roll over the state to next time step        \n",
    "        if np.any(dones):                                        # exit loop if episode finished        \n",
    "            break     \n",
    "            \n",
    "    #book keeping\n",
    "    scores.append(np.max(score))\n",
    "    scores_avg.append(np.max(score))\n",
    "    moving_scores.append(np.mean(scores_avg))\n",
    "\n",
    "    #print scores intermittenly\n",
    "    if episode % 100 ==0: print(f'Episode: {episode} Score: {np.max(score)} Average Score: {np.mean(scores_avg)}')\n",
    "\n",
    "    #break if done\n",
    "    if (np.mean(scores_avg) > 0.5) & (len(scores_avg) == 100):\n",
    "        print(f'Environment solved in {episode} episodes! Average Score: {np.mean(scores_avg)}')\n",
    "        break    \n"
   ]
  },
  {
   "cell_type": "code",
   "execution_count": 11,
   "metadata": {},
   "outputs": [
    {
     "data": {
      "image/png": "[encoded data removed]",
      "text/plain": [
       "<Figure size 432x288 with 1 Axes>"
      ]
     },
     "metadata": {},
     "output_type": "display_data"
    }
   ],
   "source": [
    "plt.plot(scores)\n",
    "plt.plot(moving_scores)\n",
    "plt.ylabel('Score')\n",
    "plt.xlabel('Episode #')\n",
    "plt.show()    "
   ]
  },
  {
   "cell_type": "code",
   "execution_count": 12,
   "metadata": {},
   "outputs": [
    {
     "data": {
      "text/plain": [
       "[<matplotlib.lines.Line2D at 0x7ff0c0eb0ba8>]"
      ]
     },
     "execution_count": 12,
     "metadata": {},
     "output_type": "execute_result"
    },
    {
     "data": {
      "image/png": "[encoded data removed]",
      "text/plain": [
       "<Figure size 432x288 with 1 Axes>"
      ]
     },
     "metadata": {},
     "output_type": "display_data"
    }
   ],
   "source": [
    "plt.plot(agent.actor_losses)"
   ]
  },
  {
   "cell_type": "code",
   "execution_count": 13,
   "metadata": {},
   "outputs": [
    {
     "data": {
      "text/plain": [
       "[<matplotlib.lines.Line2D at 0x7ff0c0df7dd8>]"
      ]
     },
     "execution_count": 13,
     "metadata": {},
     "output_type": "execute_result"
    },
    {
     "data": {
      "image/png": "[encoded data removed]",
      "text/plain": [
       "<Figure size 432x288 with 1 Axes>"
      ]
     },
     "metadata": {},
     "output_type": "display_data"
    }
   ],
   "source": [
    "plt.plot(agent.critic_losses)"
   ]
  },
  {
   "cell_type": "markdown",
   "metadata": {},
   "source": [
    "## Save Model Weights"
   ]
  },
  {
   "cell_type": "code",
   "execution_count": 14,
   "metadata": {},
   "outputs": [],
   "source": [
    "#save models\n",
    "torch.save(agent.actor_local.state_dict(),'actor_optimal.pth')\n",
    "torch.save(agent.critic_local.state_dict(),'critic_optimal.pth')"
   ]
  },
  {
   "cell_type": "markdown",
   "metadata": {},
   "source": [
    "## Future Works"
   ]
  },
  {
   "cell_type": "markdown",
   "metadata": {},
   "source": [
    "* For this specific problem set, there is not much we can apply a multi-agent model. What I would like to try is changing the problem to **creating an agent that tries to win as fast as possible** thus creating a competitive instead of cooperative environment. In that case, multi-agent deep deterministic policy gradient (MADDPG) with two actor models and shared memory and critic model should be a suitable model to start with. \n",
    "* As time goes on, annealing tau, update interval/times should help stabilize the training.\n",
    "* As mentioned when I submitted the `Reacher` project, I think DDPG's biggest flaw is its lack of exploration options (we only have OU Noise for that as I understand), we should have some other means of doing this such as noisy linear units."
   ]
  },
  {
   "cell_type": "code",
   "execution_count": null,
   "metadata": {},
   "outputs": [],
   "source": []
  }
 ],
 "metadata": {
  "kernelspec": {
   "display_name": "Python 3",
   "language": "python",
   "name": "python3"
  },
  "language_info": {
   "codemirror_mode": {
    "name": "ipython",
    "version": 3
   },
   "file_extension": ".py",
   "mimetype": "text/x-python",
   "name": "python",
   "nbconvert_exporter": "python",
   "pygments_lexer": "ipython3",
   "version": "3.6.6"
  }
 },
 "nbformat": 4,
 "nbformat_minor": 2
}
